{
  "nbformat": 4,
  "nbformat_minor": 0,
  "metadata": {
    "colab": {
      "name": "gatys style transfer (new)",
      "provenance": [],
      "collapsed_sections": []
    },
    "kernelspec": {
      "name": "python3",
      "display_name": "Python 3"
    },
    "language_info": {
      "name": "python"
    },
    "accelerator": "GPU"
  },
  "cells": [
    {
      "cell_type": "code",
      "metadata": {
        "id": "OA83GoEhwjm9"
      },
      "source": [
        "from tools.imports import *\n",
        "from copy import deepcopy\n",
        "device = 'cuda' if torch.cuda.is_available() else 'cpu'\n",
        "#%load_ext autoreload\n",
        "#%autoreload 2"
      ],
      "execution_count": null,
      "outputs": []
    },
    {
      "cell_type": "code",
      "metadata": {
        "id": "DU-O-jb-w0Vm"
      },
      "source": [
        "im_size = 512 #512 if torch.cuda.is_available() else 128\n",
        "#content_ims = ['malmoe', 'nyhavn', 'london', 'flower', 'bird', 'aarhus']\n",
        "content_ims = ['bird']\n",
        "#style_ims   = ['starry_night', 'wave', 'sunflowers', 'shipwreck', 'scream', 'assise']\n",
        "style_ims = ['starry_night']#, 'wave', 'sunflowers']\n",
        "ratios      = [1e-4]\n",
        "\n",
        "torch.cuda.empty_cache()\n",
        "#content_layers = ['conv_4_2']\n",
        "content_layerss = [['conv_2_2'], ['conv_4_2']]\n",
        "style_layers = ['conv_1_1', 'conv_2_1', 'conv_3_1', 'conv_4_1', 'conv_5_1']"
      ],
      "execution_count": null,
      "outputs": []
    },
    {
      "cell_type": "code",
      "metadata": {
        "id": "im1mgFsBw2Ad",
        "colab": {
          "base_uri": "https://localhost:8080/"
        },
        "outputId": "fd07878a-300f-4b4f-c3f6-090e70c7e4d9"
      },
      "source": [
        "for content_layers in content_layerss:\n",
        "    for ratio in ratios:\n",
        "        for ci in content_ims:\n",
        "            for si in style_ims:\n",
        "                torch.cuda.empty_cache()\n",
        "                content_im = im.load('images/' + ci + '.jpg', im_size)\n",
        "                style_im = im.load('images/' + si + '.jpg', im_size)\n",
        "                net = nt.Styler(content_im, style_im, im_size, content_layers, style_layers)\n",
        "                net.eval()\n",
        "\n",
        "                torch.autograd.set_detect_anomaly(True)\n",
        "                # Use net.summary() to see layers.\n",
        "                x = deepcopy(content_im)\n",
        "                nst = run_styler(net, x, 15, ratio)\n",
        "                im.save(nst, \"{}_{}_{}_{}\".format(ci, si, ratio, content_layers[0]))\n",
        "\n",
        "                del net\n",
        "                del nst"
      ],
      "execution_count": null,
      "outputs": [
        {
          "output_type": "stream",
          "text": [
            "Epoch: 1 \t Loss: 1.476\n",
            "Epoch: 2 \t Loss: 0.185\n",
            "Epoch: 3 \t Loss: 0.154\n",
            "Epoch: 4 \t Loss: 0.144\n",
            "Epoch: 5 \t Loss: 0.139\n",
            "Epoch: 6 \t Loss: 0.136\n",
            "Epoch: 7 \t Loss: 0.134\n",
            "Epoch: 8 \t Loss: 0.132\n",
            "Epoch: 9 \t Loss: 0.131\n",
            "Epoch: 10 \t Loss: 0.130\n",
            "Epoch: 11 \t Loss: 0.129\n",
            "Epoch: 12 \t Loss: 0.128\n",
            "Epoch: 13 \t Loss: 0.127\n",
            "Epoch: 14 \t Loss: 0.128\n",
            "Epoch: 15 \t Loss: 0.126\n",
            "Epoch: 1 \t Loss: 1.476\n",
            "Epoch: 2 \t Loss: 0.461\n",
            "Epoch: 3 \t Loss: 0.359\n",
            "Epoch: 4 \t Loss: 0.324\n",
            "Epoch: 5 \t Loss: 0.305\n",
            "Epoch: 6 \t Loss: 0.294\n",
            "Epoch: 7 \t Loss: 0.286\n",
            "Epoch: 8 \t Loss: 0.280\n",
            "Epoch: 9 \t Loss: 0.276\n",
            "Epoch: 10 \t Loss: 0.272\n",
            "Epoch: 11 \t Loss: 0.270\n",
            "Epoch: 12 \t Loss: 0.267\n",
            "Epoch: 13 \t Loss: 0.265\n",
            "Epoch: 14 \t Loss: 0.263\n",
            "Epoch: 15 \t Loss: 0.262\n"
          ],
          "name": "stdout"
        }
      ]
    },
    {
      "cell_type": "code",
      "metadata": {
        "id": "vxoHV5hCw4kQ",
        "colab": {
          "base_uri": "https://localhost:8080/",
          "height": 50
        },
        "outputId": "efb12075-7b0a-4620-e8e1-074375b3e394"
      },
      "source": [
        "'''fig, ax = plt.subplots(1, 3, figsize=[12,4])\n",
        "im.unload(nst, ax[1])\n",
        "im.unload(style_im, ax[0])\n",
        "im.unload(content_im, ax[2])'''\n",
        "\n"
      ],
      "execution_count": null,
      "outputs": [
        {
          "output_type": "execute_result",
          "data": {
            "application/vnd.google.colaboratory.intrinsic+json": {
              "type": "string"
            },
            "text/plain": [
              "'fig, ax = plt.subplots(1, 3, figsize=[12,4])\\nim.unload(nst, ax[1])\\nim.unload(style_im, ax[0])\\nim.unload(content_im, ax[2])'"
            ]
          },
          "metadata": {
            "tags": []
          },
          "execution_count": 4
        }
      ]
    },
    {
      "cell_type": "code",
      "metadata": {
        "id": "h9ktyve7xhIO",
        "colab": {
          "base_uri": "https://localhost:8080/"
        },
        "outputId": "65736fda-d04f-4025-b77f-78c8004ec958"
      },
      "source": [
        "net.summary()"
      ],
      "execution_count": null,
      "outputs": [
        {
          "output_type": "stream",
          "text": [
            "0 <class 'torch.nn.modules.conv.Conv2d'>\n",
            "style_0 <class 'tools.loss.StyleLoss'>\n",
            "1 <class 'torch.nn.modules.activation.ReLU'>\n",
            "2 <class 'torch.nn.modules.conv.Conv2d'>\n",
            "3 <class 'torch.nn.modules.activation.ReLU'>\n",
            "4 <class 'torch.nn.modules.pooling.MaxPool2d'>\n",
            "5 <class 'torch.nn.modules.conv.Conv2d'>\n",
            "style_5 <class 'tools.loss.StyleLoss'>\n",
            "6 <class 'torch.nn.modules.activation.ReLU'>\n",
            "7 <class 'torch.nn.modules.conv.Conv2d'>\n",
            "8 <class 'torch.nn.modules.activation.ReLU'>\n",
            "9 <class 'torch.nn.modules.pooling.MaxPool2d'>\n",
            "10 <class 'torch.nn.modules.conv.Conv2d'>\n",
            "style_10 <class 'tools.loss.StyleLoss'>\n",
            "11 <class 'torch.nn.modules.activation.ReLU'>\n",
            "12 <class 'torch.nn.modules.conv.Conv2d'>\n",
            "13 <class 'torch.nn.modules.activation.ReLU'>\n",
            "14 <class 'torch.nn.modules.conv.Conv2d'>\n",
            "15 <class 'torch.nn.modules.activation.ReLU'>\n",
            "16 <class 'torch.nn.modules.conv.Conv2d'>\n",
            "17 <class 'torch.nn.modules.activation.ReLU'>\n",
            "18 <class 'torch.nn.modules.pooling.MaxPool2d'>\n",
            "19 <class 'torch.nn.modules.conv.Conv2d'>\n",
            "style_19 <class 'tools.loss.StyleLoss'>\n",
            "20 <class 'torch.nn.modules.activation.ReLU'>\n",
            "21 <class 'torch.nn.modules.conv.Conv2d'>\n",
            "content_21 <class 'tools.loss.ContentLoss'>\n",
            "22 <class 'torch.nn.modules.activation.ReLU'>\n",
            "23 <class 'torch.nn.modules.conv.Conv2d'>\n",
            "24 <class 'torch.nn.modules.activation.ReLU'>\n",
            "25 <class 'torch.nn.modules.conv.Conv2d'>\n",
            "26 <class 'torch.nn.modules.activation.ReLU'>\n",
            "27 <class 'torch.nn.modules.pooling.MaxPool2d'>\n",
            "28 <class 'torch.nn.modules.conv.Conv2d'>\n",
            "style_28 <class 'tools.loss.StyleLoss'>\n",
            "29 <class 'torch.nn.modules.activation.ReLU'>\n",
            "30 <class 'torch.nn.modules.conv.Conv2d'>\n",
            "31 <class 'torch.nn.modules.activation.ReLU'>\n",
            "32 <class 'torch.nn.modules.conv.Conv2d'>\n",
            "33 <class 'torch.nn.modules.activation.ReLU'>\n",
            "34 <class 'torch.nn.modules.conv.Conv2d'>\n",
            "35 <class 'torch.nn.modules.activation.ReLU'>\n",
            "36 <class 'torch.nn.modules.pooling.MaxPool2d'>\n"
          ],
          "name": "stdout"
        }
      ]
    },
    {
      "cell_type": "code",
      "metadata": {
        "id": "_qlDW20wMPuY"
      },
      "source": [
        ""
      ],
      "execution_count": null,
      "outputs": []
    }
  ]
}