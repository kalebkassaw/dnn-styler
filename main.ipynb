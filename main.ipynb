{
 "cells": [
  {
   "cell_type": "code",
   "execution_count": 2,
   "metadata": {},
   "outputs": [
    {
     "name": "stdout",
     "output_type": "stream",
     "text": [
      "Requirement already satisfied: torch==1.5.0 in /Users/Kaleb/opt/anaconda3/lib/python3.8/site-packages (1.5.0)\n",
      "Requirement already satisfied: torchvision==0.6.0 in /Users/Kaleb/opt/anaconda3/lib/python3.8/site-packages (0.6.0)\n",
      "Requirement already satisfied: numpy in /Users/Kaleb/opt/anaconda3/lib/python3.8/site-packages (from torch==1.5.0) (1.19.1)\n",
      "Requirement already satisfied: future in /Users/Kaleb/opt/anaconda3/lib/python3.8/site-packages (from torch==1.5.0) (0.18.2)\n",
      "Requirement already satisfied: pillow>=4.1.1 in /Users/Kaleb/opt/anaconda3/lib/python3.8/site-packages (from torchvision==0.6.0) (7.2.0)\n"
     ]
    }
   ],
   "source": [
    "from tools.imports import *\n",
    "from copy import deepcopy    \n",
    "device = 'cuda' if torch.cuda.is_available() else 'cpu'\n",
    "%load_ext autoreload\n",
    "%autoreload 2"
   ]
  },
  {
   "cell_type": "code",
   "execution_count": null,
   "metadata": {},
   "outputs": [],
   "source": [
    "im_size = 512 if torch.cuda.is_available() else 128\n",
    "content_im = im.load('images/malmoe_small.jpg', im_size)\n",
    "style_im = im.load('images/starry_night_small.jpg', im_size)\n",
    "torch.cuda.empty_cache()\n",
    "\n",
    "content_layers = ['conv_4_2']\n",
    "style_layers = ['conv_1_1', 'conv_2_1', 'conv_3_1', 'conv_4_1', 'conv_5_1']"
   ]
  },
  {
   "cell_type": "code",
   "execution_count": null,
   "metadata": {},
   "outputs": [],
   "source": [
    "torch.cuda.empty_cache()\n",
    "\n",
    "net = nt.Styler(content_im, style_im, im_size, content_layers, style_layers)\n",
    "net.eval()\n",
    "\n",
    "# Use net.summary() to see layers.\n",
    "x = deepcopy(content_im)\n",
    "nst = run_styler(net, x, 15, 1e-7)"
   ]
  },
  {
   "cell_type": "code",
   "execution_count": null,
   "metadata": {},
   "outputs": [],
   "source": [
    "fig, ax = plt.subplots(1, 3, figsize=[12,4])\n",
    "im.unload(nst, ax[1])\n",
    "im.unload(style_im, ax[0])\n",
    "im.unload(content_im, ax[2])"
   ]
  }
 ],
 "metadata": {
  "kernelspec": {
   "display_name": "Python 3",
   "language": "python",
   "name": "python3"
  },
  "language_info": {
   "codemirror_mode": {
    "name": "ipython",
    "version": 3
   },
   "file_extension": ".py",
   "mimetype": "text/x-python",
   "name": "python",
   "nbconvert_exporter": "python",
   "pygments_lexer": "ipython3",
   "version": "3.8.5"
  }
 },
 "nbformat": 4,
 "nbformat_minor": 4
}