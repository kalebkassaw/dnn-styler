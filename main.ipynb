{
 "cells": [
  {
   "cell_type": "code",
   "execution_count": 2,
   "metadata": {},
   "outputs": [
    {
     "name": "stdout",
     "output_type": "stream",
     "text": [
      "Requirement already satisfied: torch==1.5.0 in /Users/Kaleb/opt/anaconda3/lib/python3.8/site-packages (1.5.0)\n",
      "Requirement already satisfied: torchvision==0.6.0 in /Users/Kaleb/opt/anaconda3/lib/python3.8/site-packages (0.6.0)\n",
      "Requirement already satisfied: numpy in /Users/Kaleb/opt/anaconda3/lib/python3.8/site-packages (from torch==1.5.0) (1.19.1)\n",
      "Requirement already satisfied: future in /Users/Kaleb/opt/anaconda3/lib/python3.8/site-packages (from torch==1.5.0) (0.18.2)\n",
      "Requirement already satisfied: pillow>=4.1.1 in /Users/Kaleb/opt/anaconda3/lib/python3.8/site-packages (from torchvision==0.6.0) (7.2.0)\n"
     ]
    }
   ],
   "source": [
    "!pip install torch==1.5.0 torchvision==0.6.0\n",
    "from tools.imports import *"
   ]
  },
  {
   "cell_type": "code",
   "execution_count": null,
   "metadata": {},
   "outputs": [],
   "source": [
    "content_im = im.load('images/malmoe.jpg')\n",
    "style_im = im.load('images/starry_night.jpg')\n",
    "content_layers = ['conv_4_2']\n",
    "im_size = 512 if torch.cuda.is_available() else 128\n",
    "\n",
    "style_layers = nt.layers\n",
    "[style_layers.remove(i) for i in content_layers]\n",
    "net = nt.Styler(content_im, style_im, im_size, content_layers, style_layers)\n",
    "# Use net.summary() to see layers."
   ]
  },
  {
   "cell_type": "code",
   "execution_count": null,
   "metadata": {},
   "outputs": [],
   "source": [
    "net.summary()"
   ]
  },
  {
   "cell_type": "code",
   "execution_count": null,
   "metadata": {},
   "outputs": [],
   "source": []
  }
 ],
 "metadata": {
  "kernelspec": {
   "display_name": "Python 3",
   "language": "python",
   "name": "python3"
  },
  "language_info": {
   "codemirror_mode": {
    "name": "ipython",
    "version": 3
   },
   "file_extension": ".py",
   "mimetype": "text/x-python",
   "name": "python",
   "nbconvert_exporter": "python",
   "pygments_lexer": "ipython3",
   "version": "3.8.5"
  }
 },
 "nbformat": 4,
 "nbformat_minor": 4
}
